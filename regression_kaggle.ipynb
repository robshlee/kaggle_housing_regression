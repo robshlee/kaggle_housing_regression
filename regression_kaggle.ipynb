{
 "cells": [
  {
   "cell_type": "markdown",
   "metadata": {},
   "source": [
    "# Ames, Iowa Housing - Regression\n",
    "The dataset used for this notebook was the Ames Housing Dataset provided by Kaggle, https://www.kaggle.com/c/house-prices-advanced-regression-techniques/data.\n",
    "\n",
    "From an internal competition between my peer data science fellows at General Assembly, the best performing model in this notebook placed top 10% on the test set."
   ]
  },
  {
   "cell_type": "code",
   "execution_count": 1,
   "metadata": {
    "collapsed": true
   },
   "outputs": [],
   "source": [
    "import numpy as np\n",
    "import pandas as pd\n",
    "import seaborn as sns\n",
    "import matplotlib.pyplot as plt\n",
    "import warnings\n",
    "\n",
    "from sklearn.model_selection import train_test_split, cross_val_score, GridSearchCV\n",
    "from sklearn.linear_model import Lasso\n",
    "from sklearn.preprocessing import StandardScaler, MinMaxScaler, RobustScaler, PolynomialFeatures, OneHotEncoder\n",
    "from sklearn.ensemble import GradientBoostingRegressor, AdaBoostRegressor, BaggingRegressor, RandomForestRegressor\n",
    "from sklearn.pipeline import make_pipeline\n",
    "from sklearn.base import BaseEstimator, TransformerMixin\n",
    "\n",
    "%matplotlib inline\n",
    "warnings.filterwarnings('ignore')"
   ]
  },
  {
   "cell_type": "markdown",
   "metadata": {},
   "source": [
    "# Import Data and EDA"
   ]
  },
  {
   "cell_type": "code",
   "execution_count": 2,
   "metadata": {},
   "outputs": [
    {
     "name": "stdout",
     "output_type": "stream",
     "text": [
      "Training set:  (2051, 82)\n",
      "Test set:  (879, 80)\n"
     ]
    }
   ],
   "source": [
    "# Import CSVs\n",
    "train_df = pd.read_csv('train.csv')\n",
    "test_df = pd.read_csv('test.csv')\n",
    "\n",
    "# See shape of training and test sets\n",
    "print('Training set: ', train_df.shape)\n",
    "print('Test set: ', test_df.shape)"
   ]
  },
  {
   "cell_type": "code",
   "execution_count": 3,
   "metadata": {},
   "outputs": [
    {
     "data": {
      "text/html": [
       "<div>\n",
       "<style>\n",
       "    .dataframe thead tr:only-child th {\n",
       "        text-align: right;\n",
       "    }\n",
       "\n",
       "    .dataframe thead th {\n",
       "        text-align: left;\n",
       "    }\n",
       "\n",
       "    .dataframe tbody tr th {\n",
       "        vertical-align: top;\n",
       "    }\n",
       "</style>\n",
       "<table border=\"1\" class=\"dataframe\">\n",
       "  <thead>\n",
       "    <tr style=\"text-align: right;\">\n",
       "      <th></th>\n",
       "      <th>Id</th>\n",
       "      <th>PID</th>\n",
       "      <th>MS SubClass</th>\n",
       "      <th>MS Zoning</th>\n",
       "      <th>Lot Frontage</th>\n",
       "      <th>Lot Area</th>\n",
       "      <th>Street</th>\n",
       "      <th>Alley</th>\n",
       "      <th>Lot Shape</th>\n",
       "      <th>Land Contour</th>\n",
       "      <th>...</th>\n",
       "      <th>Pool Area</th>\n",
       "      <th>Pool QC</th>\n",
       "      <th>Fence</th>\n",
       "      <th>Misc Feature</th>\n",
       "      <th>Misc Val</th>\n",
       "      <th>Mo Sold</th>\n",
       "      <th>Yr Sold</th>\n",
       "      <th>Sale Type</th>\n",
       "      <th>Sale Condition</th>\n",
       "      <th>SalePrice</th>\n",
       "    </tr>\n",
       "  </thead>\n",
       "  <tbody>\n",
       "    <tr>\n",
       "      <th>0</th>\n",
       "      <td>109</td>\n",
       "      <td>533352170</td>\n",
       "      <td>60</td>\n",
       "      <td>RL</td>\n",
       "      <td>NaN</td>\n",
       "      <td>13517</td>\n",
       "      <td>Pave</td>\n",
       "      <td>NaN</td>\n",
       "      <td>IR1</td>\n",
       "      <td>Lvl</td>\n",
       "      <td>...</td>\n",
       "      <td>0</td>\n",
       "      <td>NaN</td>\n",
       "      <td>NaN</td>\n",
       "      <td>NaN</td>\n",
       "      <td>0</td>\n",
       "      <td>3</td>\n",
       "      <td>2010</td>\n",
       "      <td>WD</td>\n",
       "      <td>Normal</td>\n",
       "      <td>130500</td>\n",
       "    </tr>\n",
       "    <tr>\n",
       "      <th>1</th>\n",
       "      <td>544</td>\n",
       "      <td>531379050</td>\n",
       "      <td>60</td>\n",
       "      <td>RL</td>\n",
       "      <td>43.0</td>\n",
       "      <td>11492</td>\n",
       "      <td>Pave</td>\n",
       "      <td>NaN</td>\n",
       "      <td>IR1</td>\n",
       "      <td>Lvl</td>\n",
       "      <td>...</td>\n",
       "      <td>0</td>\n",
       "      <td>NaN</td>\n",
       "      <td>NaN</td>\n",
       "      <td>NaN</td>\n",
       "      <td>0</td>\n",
       "      <td>4</td>\n",
       "      <td>2009</td>\n",
       "      <td>WD</td>\n",
       "      <td>Normal</td>\n",
       "      <td>220000</td>\n",
       "    </tr>\n",
       "    <tr>\n",
       "      <th>2</th>\n",
       "      <td>153</td>\n",
       "      <td>535304180</td>\n",
       "      <td>20</td>\n",
       "      <td>RL</td>\n",
       "      <td>68.0</td>\n",
       "      <td>7922</td>\n",
       "      <td>Pave</td>\n",
       "      <td>NaN</td>\n",
       "      <td>Reg</td>\n",
       "      <td>Lvl</td>\n",
       "      <td>...</td>\n",
       "      <td>0</td>\n",
       "      <td>NaN</td>\n",
       "      <td>NaN</td>\n",
       "      <td>NaN</td>\n",
       "      <td>0</td>\n",
       "      <td>1</td>\n",
       "      <td>2010</td>\n",
       "      <td>WD</td>\n",
       "      <td>Abnorml</td>\n",
       "      <td>109000</td>\n",
       "    </tr>\n",
       "    <tr>\n",
       "      <th>3</th>\n",
       "      <td>318</td>\n",
       "      <td>916386060</td>\n",
       "      <td>60</td>\n",
       "      <td>RL</td>\n",
       "      <td>73.0</td>\n",
       "      <td>9802</td>\n",
       "      <td>Pave</td>\n",
       "      <td>NaN</td>\n",
       "      <td>Reg</td>\n",
       "      <td>Lvl</td>\n",
       "      <td>...</td>\n",
       "      <td>0</td>\n",
       "      <td>NaN</td>\n",
       "      <td>NaN</td>\n",
       "      <td>NaN</td>\n",
       "      <td>0</td>\n",
       "      <td>4</td>\n",
       "      <td>2010</td>\n",
       "      <td>WD</td>\n",
       "      <td>Normal</td>\n",
       "      <td>174000</td>\n",
       "    </tr>\n",
       "    <tr>\n",
       "      <th>4</th>\n",
       "      <td>255</td>\n",
       "      <td>906425045</td>\n",
       "      <td>50</td>\n",
       "      <td>RL</td>\n",
       "      <td>82.0</td>\n",
       "      <td>14235</td>\n",
       "      <td>Pave</td>\n",
       "      <td>NaN</td>\n",
       "      <td>IR1</td>\n",
       "      <td>Lvl</td>\n",
       "      <td>...</td>\n",
       "      <td>0</td>\n",
       "      <td>NaN</td>\n",
       "      <td>NaN</td>\n",
       "      <td>NaN</td>\n",
       "      <td>0</td>\n",
       "      <td>3</td>\n",
       "      <td>2010</td>\n",
       "      <td>WD</td>\n",
       "      <td>Normal</td>\n",
       "      <td>138500</td>\n",
       "    </tr>\n",
       "  </tbody>\n",
       "</table>\n",
       "<p>5 rows × 82 columns</p>\n",
       "</div>"
      ],
      "text/plain": [
       "    Id        PID  MS SubClass MS Zoning  Lot Frontage  Lot Area Street Alley  \\\n",
       "0  109  533352170           60        RL           NaN     13517   Pave   NaN   \n",
       "1  544  531379050           60        RL          43.0     11492   Pave   NaN   \n",
       "2  153  535304180           20        RL          68.0      7922   Pave   NaN   \n",
       "3  318  916386060           60        RL          73.0      9802   Pave   NaN   \n",
       "4  255  906425045           50        RL          82.0     14235   Pave   NaN   \n",
       "\n",
       "  Lot Shape Land Contour    ...     Pool Area Pool QC Fence Misc Feature  \\\n",
       "0       IR1          Lvl    ...             0     NaN   NaN          NaN   \n",
       "1       IR1          Lvl    ...             0     NaN   NaN          NaN   \n",
       "2       Reg          Lvl    ...             0     NaN   NaN          NaN   \n",
       "3       Reg          Lvl    ...             0     NaN   NaN          NaN   \n",
       "4       IR1          Lvl    ...             0     NaN   NaN          NaN   \n",
       "\n",
       "  Misc Val Mo Sold Yr Sold Sale Type  Sale Condition  SalePrice  \n",
       "0        0       3    2010       WD           Normal     130500  \n",
       "1        0       4    2009       WD           Normal     220000  \n",
       "2        0       1    2010       WD          Abnorml     109000  \n",
       "3        0       4    2010       WD           Normal     174000  \n",
       "4        0       3    2010       WD           Normal     138500  \n",
       "\n",
       "[5 rows x 82 columns]"
      ]
     },
     "execution_count": 3,
     "metadata": {},
     "output_type": "execute_result"
    }
   ],
   "source": [
    "# See training set's head\n",
    "train_df.head()"
   ]
  },
  {
   "cell_type": "markdown",
   "metadata": {},
   "source": [
    "This is a relatively small dataset with a little over 2000 datapoints in the training set, however there's also a lot of features to work with. We'll have to be wary as this type of situation can cause predictions with high variance and create an overfit model. <br/><br/>\n",
    "Also note the test set has 2 less columns than the training set. I suspect these would be the targets, but let's confirm."
   ]
  },
  {
   "cell_type": "code",
   "execution_count": 4,
   "metadata": {},
   "outputs": [
    {
     "data": {
      "text/plain": [
       "['Sale Condition', 'SalePrice']"
      ]
     },
     "execution_count": 4,
     "metadata": {},
     "output_type": "execute_result"
    }
   ],
   "source": [
    "[col for col in train_df.columns if col not in test_df.columns]"
   ]
  },
  {
   "cell_type": "markdown",
   "metadata": {},
   "source": [
    "As suspected these columns look to be targets; 1 for classification and 1 for regression. We'll use this knowledge to create our feature matrix and target vector later after some preprocessing. As our focus for this project is regression, we'll set our target to **SalePrice** and drop the Sale Condition column. <br/><br/>\n",
    "For now we'll rename our columns to exclude spaces and put underscores in place of them for filtering cleanliness. "
   ]
  },
  {
   "cell_type": "code",
   "execution_count": 5,
   "metadata": {
    "collapsed": true
   },
   "outputs": [],
   "source": [
    "# Place '_' inplace of spaces in column names\n",
    "train_df.columns = [col.replace(' ', '_') for col in train_df.columns]\n",
    "test_df.columns = [col.replace(' ', '_') for col in test_df.columns]"
   ]
  },
  {
   "cell_type": "markdown",
   "metadata": {},
   "source": [
    "We'll start our EDA by seeing how clean our data is. We'll first check for Nans."
   ]
  },
  {
   "cell_type": "code",
   "execution_count": 6,
   "metadata": {
    "scrolled": false
   },
   "outputs": [
    {
     "data": {
      "text/plain": [
       "Lot_Frontage       330\n",
       "Alley             1911\n",
       "Mas_Vnr_Type        22\n",
       "Mas_Vnr_Area        22\n",
       "Bsmt_Qual           55\n",
       "Bsmt_Cond           55\n",
       "Bsmt_Exposure       58\n",
       "BsmtFin_Type_1      55\n",
       "BsmtFin_SF_1         1\n",
       "BsmtFin_Type_2      56\n",
       "BsmtFin_SF_2         1\n",
       "Bsmt_Unf_SF          1\n",
       "Total_Bsmt_SF        1\n",
       "Bsmt_Full_Bath       2\n",
       "Bsmt_Half_Bath       2\n",
       "Fireplace_Qu      1000\n",
       "Garage_Type        113\n",
       "Garage_Yr_Blt      114\n",
       "Garage_Finish      114\n",
       "Garage_Cars          1\n",
       "Garage_Area          1\n",
       "Garage_Qual        114\n",
       "Garage_Cond        114\n",
       "Pool_QC           2042\n",
       "Fence             1651\n",
       "Misc_Feature      1986\n",
       "dtype: int64"
      ]
     },
     "execution_count": 6,
     "metadata": {},
     "output_type": "execute_result"
    }
   ],
   "source": [
    "train_df.isnull().sum()[train_df.isnull().sum() != 0]"
   ]
  },
  {
   "cell_type": "markdown",
   "metadata": {},
   "source": [
    "So.. quite a bit of null values in this dataset. One option to deal with these Nans is to drop all columns where a Nan is present. However because we have so few datapoints in the training set and I wouldn't want to delete valuable features, I'll refer back to the data dictionary and figure which columns I can impute. "
   ]
  },
  {
   "cell_type": "markdown",
   "metadata": {},
   "source": [
    "Given the data dictionary and number of Nans, I'll deal with these columns in the following manner."
   ]
  },
  {
   "cell_type": "markdown",
   "metadata": {
    "collapsed": true
   },
   "source": [
    "|Feature |Number of Nans |Action |\n",
    "|---|---|---|\n",
    "|Lot Frontage   |330   |Drop column  |\n",
    "|Alley   |1911   |Impute 'None'   |\n",
    "|Mas Vnr Type   |22   |Impute 'None'   |\n",
    "|Mas Vnr Area|22|Impute 0|\n",
    "|Bsmt Qual|55|Impute 'None'|\n",
    "|Bsmt Cond|55|Impute 'None'|\n",
    "|Bsmt Exposure|58|Impute 'None'|\n",
    "|BsmtFin Type 1|55|Impute 'None'|\n",
    "|BsmtFin SF 1     |    1 |Delete row|\n",
    "|BsmtFin Type 2   |   56 |Impute 'None'|\n",
    "|BsmtFin SF 2     |    1 |Delete row|\n",
    "|Bsmt Unf SF      |    1 |Delete row|\n",
    "|Total Bsmt SF     |   1 |Delete row|\n",
    "|Bsmt Full Bath    |   2 |Delete row|\n",
    "|Bsmt Half Bath    |   2 |Delete row|\n",
    "|Fireplace Qu    |  1000 |Impute 'None'|\n",
    "|Garage Type     |   113 |Impute 'None'|\n",
    "|Garage Yr Blt    |  114 |Drop column|\n",
    "|Garage Finish   |   114 |Impute 'None'|\n",
    "|Garage Cars     |     1 |Delete row|\n",
    "|Garage Area     |     1 |Delete row|\n",
    "|Garage Qual     |   114 |Impute 'None'|\n",
    "|Garage Cond     |   114 |Impute 'None'|\n",
    "|Pool QC        |   2042 |Impute 'None'|\n",
    "|Fence          |   1651 |Impute 'None'|\n",
    "|Misc Feature   |   1986 |Impute 'None'|\n"
   ]
  },
  {
   "cell_type": "code",
   "execution_count": 7,
   "metadata": {
    "collapsed": true,
    "scrolled": false
   },
   "outputs": [],
   "source": [
    "# Group features by common action\n",
    "drop_columns = ['Lot_Frontage', 'Garage_Yr_Blt']\n",
    "delete_rows = ['BsmtFin_SF_1', 'BsmtFin_SF_2', 'Bsmt_Unf_SF', 'Total_Bsmt_SF', 'Bsmt_Full_Bath', 'Bsmt_Half_Bath', \\\n",
    "              'Garage_Cars', 'Garage_Area']\n",
    "impute_0 = ['Mas_Vnr_Area'] \n",
    "impute_none = ['Alley', 'Mas_Vnr_Type', 'Bsmt_Qual', 'Bsmt_Cond', 'Bsmt_Exposure', 'BsmtFin_Type_1', 'BsmtFin_Type_2', \\\n",
    "              'Fireplace_Qu', 'Garage_Type', 'Garage_Finish', 'Garage_Qual', 'Garage_Cond', 'Pool_QC', 'Fence', \\\n",
    "               'Misc_Feature']\n",
    "\n",
    "# Create data cleaning function for ease of repeatability\n",
    "def clean_features(df):\n",
    "    \n",
    "    # Drop columns\n",
    "    [df.drop(col, axis=1, inplace=True) for col in drop_columns]\n",
    "    \n",
    "    # Delete rows\n",
    "    df[delete_rows].dropna(axis=0, inplace=True)\n",
    "    \n",
    "    # Impute 0\n",
    "    df[impute_0].fillna(0, inplace=True)\n",
    "    \n",
    "    # Impute 'None'\n",
    "    [df.fillna('None', inplace=True) for col in impute_none]\n",
    "    \n",
    "# Run function of train and test sets\n",
    "clean_features(train_df)\n",
    "clean_features(test_df)"
   ]
  },
  {
   "cell_type": "markdown",
   "metadata": {},
   "source": [
    "We can now split our training set to make our feature matrix and target vector. As mentioned before as this is a regression problem, we'll make Sale Price our target vector and will discard Sale Condition."
   ]
  },
  {
   "cell_type": "code",
   "execution_count": 8,
   "metadata": {
    "collapsed": true
   },
   "outputs": [],
   "source": [
    "y_train = train_df['SalePrice']\n",
    "X_train = train_df.drop(['Sale_Condition', 'SalePrice'], axis=1)\n",
    "\n",
    "# Rename test set for consistency\n",
    "X_test = test_df"
   ]
  },
  {
   "cell_type": "markdown",
   "metadata": {},
   "source": [
    "For our model to deal with the categorical features, we'll need to one hot encode them."
   ]
  },
  {
   "cell_type": "code",
   "execution_count": 9,
   "metadata": {
    "collapsed": true
   },
   "outputs": [],
   "source": [
    "# Identify categorical columns\n",
    "cat_feature_dtypes = X_train.dtypes[(X_train.dtypes != 'int64') & (X_train.dtypes != 'float64')].to_frame().reset_index()\n",
    "\n",
    "cat_features = np.array(cat_feature_dtypes['index'])\n",
    "\n",
    "# Spot check for any numerical columns that might've leaked in\n",
    "# for col in cat_features:\n",
    "#     print(col, X_train[col].unique())"
   ]
  },
  {
   "cell_type": "markdown",
   "metadata": {},
   "source": [
    "Through the above query we can identify a few numerical columns that leaked to the categorical feature list due to having 'None's. We'll deal with these by imputing '0's in place of 'None's."
   ]
  },
  {
   "cell_type": "code",
   "execution_count": 10,
   "metadata": {},
   "outputs": [
    {
     "data": {
      "text/plain": [
       "((2051, 303), (879, 287))"
      ]
     },
     "execution_count": 10,
     "metadata": {},
     "output_type": "execute_result"
    }
   ],
   "source": [
    "num_features = ['Mas_Vnr_Area', 'BsmtFin_SF_1', 'BsmtFin_SF_2', 'Bsmt_Unf_SF', 'Total_Bsmt_SF', 'Bsmt_Full_Bath', \\\n",
    "               'Bsmt_Half_Bath', 'Garage_Cars', 'Garage_Area']\n",
    "\n",
    "X_train[num_features] = X_train[num_features].apply(lambda x: x.replace('None', 0))\n",
    "X_test[num_features] = X_test[num_features].apply(lambda x: x.replace('None', 0))\n",
    "\n",
    "# Remove numerical features from categorical features list\n",
    "cat_features = [col for col in cat_features if col not in num_features]\n",
    "\n",
    "# One Hot Encode categorical features\n",
    "X_train = pd.get_dummies(X_train, columns=cat_features)\n",
    "X_test = pd.get_dummies(X_test, columns=cat_features)\n",
    "\n",
    "X_train.shape, X_test.shape"
   ]
  },
  {
   "cell_type": "markdown",
   "metadata": {},
   "source": [
    "Binarizing our categorical features made our training and test feature matrices have different number of columns. The obvious deduction here is some of the categorical entries were not present in both sets. For this problem we'll deal with the issue by creating dummy columns in the test feature matrix. Any dummy columns in the test feature matrix that doesn't exist in the training feature matrix, we'll delete."
   ]
  },
  {
   "cell_type": "code",
   "execution_count": 11,
   "metadata": {},
   "outputs": [
    {
     "data": {
      "text/plain": [
       "((2051, 303), (879, 303))"
      ]
     },
     "execution_count": 11,
     "metadata": {},
     "output_type": "execute_result"
    }
   ],
   "source": [
    "dummy_col_list = [col for col in X_train.columns if col not in X_test.columns]\n",
    "\n",
    "for col in dummy_col_list:\n",
    "    X_test[col] = 0\n",
    "\n",
    "[X_test.drop(col, axis=1, inplace=True) for col in X_test.columns if col not in X_train.columns]\n",
    "\n",
    "X_train.shape, X_test.shape"
   ]
  },
  {
   "cell_type": "markdown",
   "metadata": {},
   "source": [
    "Our feature matrices have unique identifier columns that we should remove before we feed the data into our model. We'll store the IDs as we'll need them for our Kaggle submissions."
   ]
  },
  {
   "cell_type": "code",
   "execution_count": 12,
   "metadata": {
    "collapsed": true
   },
   "outputs": [],
   "source": [
    "train_Id = X_train['Id']\n",
    "test_Id = X_test['Id']\n",
    "\n",
    "X_train.drop(['Id', 'PID'], axis=1, inplace=True)\n",
    "X_test.drop(['Id', 'PID'], axis=1, inplace=True)"
   ]
  },
  {
   "cell_type": "markdown",
   "metadata": {},
   "source": [
    "As the last preprocessing step, we'll use Standard Scaler to normalize our features."
   ]
  },
  {
   "cell_type": "code",
   "execution_count": 13,
   "metadata": {
    "collapsed": true
   },
   "outputs": [],
   "source": [
    "ss = StandardScaler()\n",
    "Xs_train = ss.fit_transform(X_train)\n",
    "Xs_test = ss.transform(X_test)"
   ]
  },
  {
   "cell_type": "markdown",
   "metadata": {},
   "source": [
    "With our data finally preprocessed, let's do some explaratory data analysis."
   ]
  },
  {
   "cell_type": "code",
   "execution_count": 14,
   "metadata": {},
   "outputs": [
    {
     "data": {
      "text/plain": [
       "<matplotlib.text.Text at 0x11bb10390>"
      ]
     },
     "execution_count": 14,
     "metadata": {},
     "output_type": "execute_result"
    },
    {
     "data": {
      "image/png": "[encoded data removed]",
      "text/plain": [
       "<matplotlib.figure.Figure at 0x10f1c9438>"
      ]
     },
     "metadata": {},
     "output_type": "display_data"
    }
   ],
   "source": [
    "# Build histogram of sales price\n",
    "plt.figure(figsize=(8, 6))\n",
    "plt.hist(y_train)\n",
    "plt.title('Sale Price Histogram', fontsize=20)\n",
    "plt.xlabel('Sale Price', fontsize=15)\n",
    "plt.ylabel('Count', fontsize=15)"
   ]
  },
  {
   "cell_type": "markdown",
   "metadata": {},
   "source": [
    "Most houses look to be priced in the $100,000 - $300,000 range with the count tapering off as the price increases."
   ]
  },
  {
   "cell_type": "code",
   "execution_count": 15,
   "metadata": {},
   "outputs": [
    {
     "data": {
      "text/plain": [
       "<matplotlib.axes._subplots.AxesSubplot at 0x11bae11d0>"
      ]
     },
     "execution_count": 15,
     "metadata": {},
     "output_type": "execute_result"
    },
    {
     "data": {
      "image/png": "[encoded data removed]",
      "text/plain": [
       "<matplotlib.figure.Figure at 0x11b8e90b8>"
      ]
     },
     "metadata": {},
     "output_type": "display_data"
    }
   ],
   "source": [
    "# View correlation for SalePrice\n",
    "plt.figure(figsize=(2, 8))\n",
    "sns.heatmap(train_df.corr()[['SalePrice']], annot=True)"
   ]
  },
  {
   "cell_type": "markdown",
   "metadata": {},
   "source": [
    "The correlation matrix above shows a high level of features that are highly correlated with Sale Price. Some of the features with high correlations are intuitive such as overall quality, year built, and square footage of areas- some are not so intuitive such as having a fireplace. We need to be careful how we interpret this however as having a fireplace I would assume is correlated with features such as higher square footage."
   ]
  },
  {
   "cell_type": "code",
   "execution_count": 16,
   "metadata": {},
   "outputs": [
    {
     "data": {
      "text/plain": [
       "<matplotlib.text.Text at 0x11c9dd710>"
      ]
     },
     "execution_count": 16,
     "metadata": {},
     "output_type": "execute_result"
    },
    {
     "data": {
      "image/png": "[encoded data removed]",
      "text/plain": [
       "<matplotlib.figure.Figure at 0x11c94a198>"
      ]
     },
     "metadata": {},
     "output_type": "display_data"
    }
   ],
   "source": [
    "plt.plot(train_df.groupby('Year_Built').mean()[['SalePrice']])\n",
    "plt.title('Sale Price by Year Built', fontsize=20)\n",
    "plt.xlabel('Year Built', fontsize=15)\n",
    "plt.ylabel('Sale Price', fontsize=15)"
   ]
  },
  {
   "cell_type": "markdown",
   "metadata": {},
   "source": [
    "# Modeling"
   ]
  },
  {
   "cell_type": "markdown",
   "metadata": {},
   "source": [
    "### LassoCV\n",
    "With a dataset with a large number of features, I typically like to run a lasso regression to begin the modeling process. The reason being is I can test if there's a strong linear relationship in addition to helping with feature selection."
   ]
  },
  {
   "cell_type": "code",
   "execution_count": 17,
   "metadata": {},
   "outputs": [
    {
     "name": "stdout",
     "output_type": "stream",
     "text": [
      "Crossfold mean:  0.842522141858\n",
      "Crossfold std:  0.143216615031\n"
     ]
    }
   ],
   "source": [
    "lasso = Lasso()\n",
    "\n",
    "lasso_cvs = cross_val_score(lasso, Xs_train, y_train, cv=10)\n",
    "\n",
    "print('Crossfold mean: ', lasso_cvs.mean())\n",
    "print('Crossfold std: ', lasso_cvs.std())"
   ]
  },
  {
   "cell_type": "markdown",
   "metadata": {},
   "source": [
    "As a first model without any parameter/hyperparameter tuning, the accuracy of the model isn't too bad. Let's see how many features our Lasso model zero-ed out."
   ]
  },
  {
   "cell_type": "code",
   "execution_count": 18,
   "metadata": {},
   "outputs": [
    {
     "name": "stdout",
     "output_type": "stream",
     "text": [
      "Number of total features:  301\n",
      "Number of zero-ed out features:  27\n"
     ]
    }
   ],
   "source": [
    "lasso.fit(Xs_train, y_train)\n",
    "\n",
    "print('Number of total features: ', Xs_train.shape[1])\n",
    "print('Number of zero-ed out features: ', len(lasso.coef_) - np.count_nonzero(lasso.coef_))"
   ]
  },
  {
   "cell_type": "markdown",
   "metadata": {},
   "source": [
    "~9% of the features were zero-ed out- was hoping for more. This is indicative that many of the features are relevant for predicitng the target.\n",
    "\n",
    "Let's see which features had the highest coefficients."
   ]
  },
  {
   "cell_type": "code",
   "execution_count": 19,
   "metadata": {},
   "outputs": [
    {
     "data": {
      "image/png": "[encoded data removed]",
      "text/plain": [
       "<matplotlib.figure.Figure at 0x11c92b080>"
      ]
     },
     "metadata": {},
     "output_type": "display_data"
    },
    {
     "name": "stdout",
     "output_type": "stream",
     "text": [
      "Top 10 positive coefficients:\n",
      "            Feature          Coef\n",
      "12       2nd_Flr_SF  19613.768572\n",
      "11       1st_Flr_SF  15464.123564\n",
      "7      BsmtFin_SF_1  14839.011783\n",
      "4        Year_Built   9850.097033\n",
      "2      Overall_Qual   8713.977296\n",
      "187  Bsmt_Qual_None   7296.196516\n",
      "3      Overall_Cond   6052.415005\n",
      "1          Lot_Area   5772.053783\n",
      "9       Bsmt_Unf_SF   5672.676870\n",
      "261  Garage_Qual_Ex   5592.175737\n",
      "------------------------------------------------------------\n"
     ]
    },
    {
     "data": {
      "image/png": "[encoded data removed]",
      "text/plain": [
       "<matplotlib.figure.Figure at 0x11e12b710>"
      ]
     },
     "metadata": {},
     "output_type": "display_data"
    },
    {
     "name": "stdout",
     "output_type": "stream",
     "text": [
      "\n",
      "Top 10 negative coefficients:\n",
      "                  Feature          Coef\n",
      "129     Roof_Matl_ClyTile -15964.458372\n",
      "286     Misc_Feature_Elev -12626.418010\n",
      "30              Pool_Area  -6113.551289\n",
      "212   BsmtFin_Type_2_None  -4397.302412\n",
      "267        Garage_Cond_Ex  -4329.424931\n",
      "19          Bedroom_AbvGr  -3413.139016\n",
      "20          Kitchen_AbvGr  -2880.559786\n",
      "147  Exterior_1st_VinylSd  -2352.017827\n",
      "72   Neighborhood_Edwards  -2174.616441\n",
      "0             MS_SubClass  -2057.790297\n"
     ]
    }
   ],
   "source": [
    "lasso_df = pd.DataFrame(X_train.columns, columns=['Feature'])\n",
    "lasso_df['Coef'] = lasso.coef_\n",
    "\n",
    "pos = lasso_df.sort_values(['Coef'], ascending=False).head(10)\n",
    "neg = lasso_df.sort_values(['Coef']).head(10)\n",
    "\n",
    "pos.plot(kind='bar', x='Feature', y='Coef')\n",
    "plt.ylabel('Coefficient', fontsize=15)\n",
    "plt.xlabel('Feature', fontsize=15)\n",
    "plt.title('Top 10 Positive Coefficients', fontsize=20)\n",
    "plt.show()\n",
    "print('Top 10 positive coefficients:')\n",
    "print(pos)\n",
    "\n",
    "print('-'*60)\n",
    "\n",
    "neg.plot(kind='bar', x='Feature', y='Coef')\n",
    "plt.ylabel('Coefficient', fontsize=15)\n",
    "plt.xlabel('Feature', fontsize=15)\n",
    "plt.title('Top 10 Negative Coefficients', fontsize=20)\n",
    "plt.show()\n",
    "print('')\n",
    "print('Top 10 negative coefficients:')\n",
    "print(neg)"
   ]
  },
  {
   "cell_type": "markdown",
   "metadata": {},
   "source": [
    "The top 10 lists are pretty intuitive to understand. The sales price of the house goes up with the higher square footage of various areas. The features included in the top 10 negative coefficients list can be indicative of features home buyers don't value or even dislike- the number one being a roof made of clay tiles. "
   ]
  },
  {
   "cell_type": "markdown",
   "metadata": {},
   "source": [
    "### Boosted Trees\n",
    "Our linear regression with l1 regularization performed fairly well, but I have a feeling an ensembled tree could yield a model with better predictive power. \n",
    "\n",
    "Random forest is my favorite model to run because on top of its historically high predictive power, the algorithm makes a lot of sense. Decision trees are very good at creating predictive models, but are prone to overfit. By coupling it with an ensembling method, it helps mitigate the overfitting issue. In addition, as each tree in random forest selects different features, it does a good job at decorrelating features in your dataset."
   ]
  },
  {
   "cell_type": "code",
   "execution_count": 20,
   "metadata": {},
   "outputs": [
    {
     "data": {
      "text/plain": [
       "0.87269258888746626"
      ]
     },
     "execution_count": 20,
     "metadata": {},
     "output_type": "execute_result"
    }
   ],
   "source": [
    "rf = RandomForestRegressor()\n",
    "\n",
    "cross_val_score(rf, Xs_train, y_train, cv=10).mean()"
   ]
  },
  {
   "cell_type": "markdown",
   "metadata": {},
   "source": [
    "Better, but not by much. Let's do some hyperparameter tuning through gridsearch to see if we can get a boost in accuracy."
   ]
  },
  {
   "cell_type": "code",
   "execution_count": 21,
   "metadata": {},
   "outputs": [
    {
     "name": "stdout",
     "output_type": "stream",
     "text": [
      "0.86550656617 {'max_depth': 6, 'min_samples_split': 5, 'n_estimators': 20}\n"
     ]
    }
   ],
   "source": [
    "params_grid = {\n",
    "    'n_estimators': [5, 10, 15, 20, 25],\n",
    "    'max_depth': [1, 2, 3, 4, 5, 6],\n",
    "    'min_samples_split': [2, 3, 4, 5]\n",
    "}\n",
    "\n",
    "grid_search = GridSearchCV(rf, params_grid, cv=10)\n",
    "\n",
    "grid_search.fit(Xs_train, y_train)\n",
    "print(grid_search.best_score_, grid_search.best_params_)"
   ]
  },
  {
   "cell_type": "markdown",
   "metadata": {},
   "source": [
    "Surprisingly our base model performed almost equally as well as our our hyperparameter tuned model if not slightly better.\n",
    "\n",
    "While we're running boosted trees, we should run Gradient Boost which is notorious for being a Kaggle competition favorite because of its historically high predictive power. "
   ]
  },
  {
   "cell_type": "code",
   "execution_count": 22,
   "metadata": {},
   "outputs": [
    {
     "data": {
      "text/plain": [
       "0.91633132776745874"
      ]
     },
     "execution_count": 22,
     "metadata": {},
     "output_type": "execute_result"
    }
   ],
   "source": [
    "gbr = GradientBoostingRegressor()\n",
    "\n",
    "cross_val_score(gbr, Xs_train, y_train, cv=10).mean()"
   ]
  },
  {
   "cell_type": "markdown",
   "metadata": {},
   "source": [
    "We finally have a model with a cross validated score of above 90%!. As this looks to be a worthy contender for kaggle, we'll predict on the test set and see how it places in the competition."
   ]
  },
  {
   "cell_type": "code",
   "execution_count": 23,
   "metadata": {
    "collapsed": true
   },
   "outputs": [],
   "source": [
    "gbr.fit(Xs_train, y_train)\n",
    "\n",
    "gbr_pred = pd.DataFrame(gbr.predict(X_test), columns=['SalePrice'])\n",
    "gbr_pred['Id'] = test_Id\n",
    "\n",
    "# Change column order\n",
    "gbr_pred = gbr_pred[['Id', 'SalePrice']]\n",
    "\n",
    "gbr_pred.to_csv('gboost_submission.csv', index=False)"
   ]
  },
  {
   "cell_type": "markdown",
   "metadata": {},
   "source": [
    "## Conclusions"
   ]
  },
  {
   "cell_type": "markdown",
   "metadata": {},
   "source": [
    "The best performing model against the test set on kaggle was the gradient boosting regressor without any hyperparameter tuning. \n",
    "\n",
    "One big note is that the training set did not contain several columns existing the the training set. These few features make a significant impact to the score against the training data (~.08). Next steps would be to try to continue feature engineering by using clustering methods to try and add these missing columns in the test data."
   ]
  },
  {
   "cell_type": "code",
   "execution_count": null,
   "metadata": {
    "collapsed": true
   },
   "outputs": [],
   "source": []
  }
 ],
 "metadata": {
  "kernelspec": {
   "display_name": "Python 3",
   "language": "python",
   "name": "python3"
  },
  "language_info": {
   "codemirror_mode": {
    "name": "ipython",
    "version": 3
   },
   "file_extension": ".py",
   "mimetype": "text/x-python",
   "name": "python",
   "nbconvert_exporter": "python",
   "pygments_lexer": "ipython3",
   "version": "3.6.1"
  }
 },
 "nbformat": 4,
 "nbformat_minor": 2
}
